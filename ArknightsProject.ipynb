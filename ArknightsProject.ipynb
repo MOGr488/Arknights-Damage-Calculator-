{
  "nbformat": 4,
  "nbformat_minor": 0,
  "metadata": {
    "colab": {
      "name": "ArknightsProject.ipynb",
      "provenance": [],
      "collapsed_sections": [],
      "authorship_tag": "ABX9TyMO1IDZPBUKcd3lNMOPBtem",
      "include_colab_link": true
    },
    "kernelspec": {
      "name": "python3",
      "display_name": "Python 3"
    },
    "language_info": {
      "name": "python"
    }
  },
  "cells": [
    {
      "cell_type": "markdown",
      "metadata": {
        "id": "view-in-github",
        "colab_type": "text"
      },
      "source": [
        "<a href=\"https://colab.research.google.com/github/MOGr488/Arknights-Damage-Calculator-/blob/main/ArknightsProject.ipynb\" target=\"_parent\"><img src=\"https://colab.research.google.com/assets/colab-badge.svg\" alt=\"Open In Colab\"/></a>"
      ]
    },
    {
      "cell_type": "code",
      "execution_count": 2,
      "metadata": {
        "colab": {
          "base_uri": "https://localhost:8080/"
        },
        "id": "T5QvckAdMdgW",
        "outputId": "ab8ef4b1-8478-4587-8abd-b7bb82d93a3d"
      },
      "outputs": [
        {
          "output_type": "stream",
          "name": "stdout",
          "text": [
            "Lancet-2\n",
            "----------------------------\n",
            "The extracted values : ['Lancet-2', 'Castle-3', 'THRM-EX', 'Yato', 'Noir Corne', 'Rangers', 'Durin', '12F', 'Fang', 'Vanilla', 'Reserve Operator - Melee', 'Plume', 'Melantha', 'Popukar', 'Cardigan', 'Beagle', 'Spot', 'Kroos', 'Adnachiel', 'Reserve Operator - Sniper', 'Lava', 'Hibiscus', 'Ansel', 'Reserve Operator - Logistics', 'Steward', 'Reserve Operator - Caster', 'Orchid', 'Haze', 'Gitano', 'Greyy', 'Click', 'Indigo', 'Jessica', 'Meteor', 'Vermeil', 'May', 'Shirayuki', 'Pinecone', 'Ambriel', 'Aciddrop', 'Courier', 'Scavenger', 'Vigna', 'Myrtle', 'Beanstalk', 'Dobermann', 'Matoimaru', 'Conviction', 'Frostleaf', 'Estelle', 'Mousse', 'Cutter', 'Utage', 'Arene', 'Gravel', 'Jaye', 'Rope', 'Myrrh', 'Gavial', 'Sussurro', 'Perfumer', 'Purestream', 'Matterhorn', 'Cuora', 'Bubble', 'Gummy', 'Dur-nar', 'Deepcolor', 'Earthspirit', 'Podenco', 'Ethan', 'Shaw', 'Ptilopsis', 'Breeze', 'Zima', 'Texas', 'Chiave', 'Reed', 'Elysium', 'Swire', 'Whislash', 'Franka', 'Flamebringer', 'Sharp', 'Indra', 'Flint', 'Lappland', 'Ayerscarpe', 'Bibeak', 'Tachanka', 'Specter', 'Broca', 'Astesia', 'Sideroca', 'Akafuyu', 'La Pluma', 'Tequila', 'Blue Poison', 'Platinum', 'GreyThroat', 'Stormeye', 'April', 'Meteorite', 'Sesa', 'Executor', 'Aosta', 'Amiya', 'Absinthe', 'Tomimi', 'Skyfire', 'Pith', 'Leizi', 'Beeswax', 'Leonhardt', 'Mint', 'Iris', 'Lava the Purgatory', 'Mayer', 'Scene', 'Silence', 'Warfarin', 'Folinic', 'Touch', 'Ceylon', 'Whisperain', 'Tuye', 'Nearl', 'Hung', 'Projekt Red', 'Waai Fu', 'Kafka', 'Mr. Nothing', 'Liskarm', 'Croissant', 'Bison', 'Vulcan', 'Asbestos', 'Blitz', 'Heavyrain', 'Provence', 'Firewatch', 'Andreana', 'Toddifons', 'Cliffheart', 'Snowsant', 'Pramanix', 'Shamare', 'Istina', 'Glaucus', 'Sora', 'Tsukinogi', 'Manticore', 'Kirara', 'FEater', 'Robin', 'Frost', 'Bena', 'Exusiai', 'Archetto', 'Ash', 'Schwarz', 'W', 'Rosa', 'Rosmontis', \"Ch'en the Holungday\", 'Siege', 'Bagpipe', 'Saga', 'Ifrit', 'Mostima', 'Eyjafjalla', 'Ceobe', 'Dusk', 'Passenger', 'Carnelian', 'Angelina', 'Suzuran', 'Magallan', 'Skadi the Corrupting Heart', 'Phantom', 'Weedy', 'Aak', 'Gladiia', 'Mizuki', 'Shining', 'Nightingale', \"Kal'tsit\", 'Hoshiguma', 'Saria', 'Blemishine', 'Nian', 'Mudrock', 'Eunectes', 'Mountain', 'SilverAsh', 'Thorns', \"Ch'en\", 'Blaze', 'Surtr', 'Hellagur', 'Pallas', 'Medic Drone', 'Tentacle', 'Mon3tr', 'Mirage', 'Robotter', 'Soaring Dragon F', 'Soaring Dragon L', 'Soaring Dragon A', 'Cursed Doll', 'Phantom in the Mirror', 'Front Toward Enemy', 'Industrial Water Cannon', 'Mobile Buggy Cam', 'Sand Obelisk', \"Rosmontis's Tactical Equipment\", \"'Clip'\", 'Metal Crab Guard Team', \"'Freeling'\", 'Welcome Mat', \"Skadi's Seaborn\", 'Roadblock', 'Stun Generator', 'Gate', 'Detector', 'Jammer', 'Turret', 'Command Terminal', 'Portable Supply Station', 'Originium Ice Crystal', 'Originium Altar', 'Interference Mine', 'Originium Flow Generator', \"L-44 'Gramophone'\", 'Giant Mushroom', 'Temporary Rhodes Island Employee', 'Mr. Boom', 'Mieszko Coil', 'Static Roadblock', 'Energy Aggregate', \"FrostNova's Originium Ice Crystal\", \"Patriot's Originium Altar\", 'Shieldguard', 'Imprisonment Device', 'Two-Step Firecracker mk2', 'Rubble', 'Pulse Defense Module', 'Teargas Control Valve', 'Drone Factory', \"Snowsant's Safe Escape Crane\", 'Dirt Mound', 'High-Energy Originium Bomb', 'Reinforcement Device', 'Sandstorm', 'Mobile Tactical Hangar', 'Emergency Aid Building', 'Offspring', 'Custom Floating Platform', 'Kite', 'Tide Controller', 'Erosion-Resistant Coating Application Device', 'Savage', 'Catapult', 'Midnight', 'Beehunter', 'Jackie', 'Nightmare', 'Grani', 'Skadi']\n"
          ]
        }
      ],
      "source": [
        "import matplotlib.pyplot as plt\n",
        "import json\n",
        "\n",
        "with open(\"/character_table.json\", \"r\") as f:\n",
        "   data = json.load(f)\n",
        "\n",
        "char_data = data['char_285_medic2']['name']\n",
        "print(char_data)\n",
        "print(\"----\"*7)\n",
        "\n",
        "target = \"name\"\n",
        " \n",
        "result = [val[target] for key, val in data.items() if target in val]\n",
        "\n",
        "print(\"The extracted values : \" + str(result))\n",
        "\n"
      ]
    },
    {
      "cell_type": "code",
      "source": [
        "test_dict = {'Gfg' : {\"a\" : 7, \"b\" : 9, \"c\" : 12},\n",
        "             'is' : {\"a\" : 15, \"b\" : 19, \"c\" : 20}, \n",
        "             'best' :{\"a\" : 5, \"b\" : 10, \"c\" : 2}}\n",
        "  \n",
        "# printing original dictionary\n",
        "print(\"The original dictionary is : \" + str(test_dict))\n",
        "  \n",
        "# initializing key\n",
        "temp = \"c\"\n",
        "  \n",
        "# using item() to extract key value pair as whole\n",
        "res = [val[temp] for key, val in test_dict.items() if temp in val]\n",
        "  \n",
        "# printing result \n",
        "print(\"The extracted values : \" + str(res)) "
      ],
      "metadata": {
        "colab": {
          "base_uri": "https://localhost:8080/"
        },
        "id": "LjEGffOJ8lJb",
        "outputId": "f3fd87a5-b39b-491e-d20d-1bd35dfe7fba"
      },
      "execution_count": null,
      "outputs": [
        {
          "output_type": "stream",
          "name": "stdout",
          "text": [
            "The original dictionary is : {'Gfg': {'a': 7, 'b': 9, 'c': 12}, 'is': {'a': 15, 'b': 19, 'c': 20}, 'best': {'a': 5, 'b': 10, 'c': 2}}\n",
            "The extracted values : [12, 20, 2]\n"
          ]
        }
      ]
    }
  ]
}